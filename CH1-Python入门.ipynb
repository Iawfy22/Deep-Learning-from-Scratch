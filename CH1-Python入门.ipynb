{
 "cells": [
  {
   "cell_type": "markdown",
   "id": "e8b18495",
   "metadata": {},
   "source": [
    "## 列表\n",
    "\n",
    "使用列表去汇总数据"
   ]
  },
  {
   "cell_type": "code",
   "execution_count": 2,
   "id": "1642d0bc",
   "metadata": {},
   "outputs": [
    {
     "name": "stdout",
     "output_type": "stream",
     "text": [
      "[1, 2, 3, 4, 4]\n"
     ]
    }
   ],
   "source": [
    "a = [1, 2, 3, 4, 4] # 生成列表\n",
    "print(a)"
   ]
  },
  {
   "cell_type": "code",
   "execution_count": 3,
   "id": "19e01f61",
   "metadata": {},
   "outputs": [
    {
     "data": {
      "text/plain": [
       "5"
      ]
     },
     "execution_count": 3,
     "metadata": {},
     "output_type": "execute_result"
    }
   ],
   "source": [
    "len(a)  # 获取列表长度"
   ]
  },
  {
   "cell_type": "code",
   "execution_count": 5,
   "id": "e1de1f0b",
   "metadata": {},
   "outputs": [
    {
     "data": {
      "text/plain": [
       "1"
      ]
     },
     "execution_count": 5,
     "metadata": {},
     "output_type": "execute_result"
    }
   ],
   "source": [
    "a[0]  # 访问元素"
   ]
  },
  {
   "cell_type": "code",
   "execution_count": 6,
   "id": "75a8178f",
   "metadata": {},
   "outputs": [
    {
     "name": "stdout",
     "output_type": "stream",
     "text": [
      "[1, 2, 3, 4, 99]\n"
     ]
    }
   ],
   "source": [
    "a[4] = 99   # 赋值\n",
    "print(a)"
   ]
  },
  {
   "cell_type": "code",
   "execution_count": 7,
   "id": "bcaf37f9",
   "metadata": {},
   "outputs": [
    {
     "data": {
      "text/plain": [
       "[1, 2]"
      ]
     },
     "execution_count": 7,
     "metadata": {},
     "output_type": "execute_result"
    }
   ],
   "source": [
    "a[0:2]  # 切片——左闭右开  a[0:2] = a[0],a[1]"
   ]
  },
  {
   "cell_type": "code",
   "execution_count": 8,
   "id": "01c9a141",
   "metadata": {},
   "outputs": [
    {
     "data": {
      "text/plain": [
       "[2, 3, 4, 99]"
      ]
     },
     "execution_count": 8,
     "metadata": {},
     "output_type": "execute_result"
    }
   ],
   "source": [
    "a[1:]  # 从索引1的地方道最后一个元素"
   ]
  },
  {
   "cell_type": "code",
   "execution_count": 9,
   "id": "c736d0a0",
   "metadata": {},
   "outputs": [
    {
     "data": {
      "text/plain": [
       "[1, 2, 3]"
      ]
     },
     "execution_count": 9,
     "metadata": {},
     "output_type": "execute_result"
    }
   ],
   "source": [
    "a[:3]  # 从第一个元素到索引为3的元素（不包括索引3的元素"
   ]
  },
  {
   "cell_type": "code",
   "execution_count": 11,
   "id": "b47d8a46",
   "metadata": {},
   "outputs": [
    {
     "data": {
      "text/plain": [
       "[1, 2, 3, 4]"
      ]
     },
     "execution_count": 11,
     "metadata": {},
     "output_type": "execute_result"
    }
   ],
   "source": [
    "a[:-1]  # 获取第一个元素到最后一个元素之间的元素"
   ]
  },
  {
   "cell_type": "markdown",
   "id": "3f6145d2",
   "metadata": {},
   "source": [
    "## 字典\n",
    "\n",
    "字典以键值对的形式存储数据"
   ]
  },
  {
   "cell_type": "code",
   "execution_count": 12,
   "id": "9b37a98b",
   "metadata": {},
   "outputs": [
    {
     "data": {
      "text/plain": [
       "180"
      ]
     },
     "execution_count": 12,
     "metadata": {},
     "output_type": "execute_result"
    }
   ],
   "source": [
    "me = {'height': 180}  # 生成字典\n",
    "me[\"height\"]  #访问元素"
   ]
  },
  {
   "cell_type": "code",
   "execution_count": 13,
   "id": "c4ef2593",
   "metadata": {},
   "outputs": [
    {
     "name": "stdout",
     "output_type": "stream",
     "text": [
      "{'height': 180, 'weight': 70}\n"
     ]
    }
   ],
   "source": [
    "me[\"weight\"] = 70  # 添加新元素\n",
    "print(me)"
   ]
  },
  {
   "cell_type": "markdown",
   "id": "ffbff7c2",
   "metadata": {},
   "source": [
    "## if语句\n",
    "\n",
    "if/else分支语句"
   ]
  },
  {
   "cell_type": "code",
   "execution_count": 14,
   "id": "1594ae9e",
   "metadata": {},
   "outputs": [
    {
     "name": "stdout",
     "output_type": "stream",
     "text": [
      "I'm hungry\n"
     ]
    }
   ],
   "source": [
    "hungry = True\n",
    "if hungry:\n",
    "    print(\"I'm hungry\")"
   ]
  },
  {
   "cell_type": "code",
   "execution_count": 15,
   "id": "37314833",
   "metadata": {},
   "outputs": [
    {
     "name": "stdout",
     "output_type": "stream",
     "text": [
      "I'm not hungry\n",
      "I'm sleepy\n"
     ]
    }
   ],
   "source": [
    "hungry = False\n",
    "if hungry:\n",
    "    print(\"I'm hungry\")\n",
    "else:\n",
    "    print(\"I'm not hungry\")\n",
    "    print(\"I'm sleepy\")"
   ]
  },
  {
   "cell_type": "markdown",
   "id": "1423ec3a",
   "metadata": {},
   "source": [
    "## for语句\n",
    "循环处理"
   ]
  },
  {
   "cell_type": "code",
   "execution_count": 16,
   "id": "36137f68",
   "metadata": {},
   "outputs": [
    {
     "name": "stdout",
     "output_type": "stream",
     "text": [
      "1\n",
      "2\n",
      "3\n"
     ]
    }
   ],
   "source": [
    "for i in [1, 2, 3]:\n",
    "    print(i)"
   ]
  },
  {
   "cell_type": "markdown",
   "id": "84120929",
   "metadata": {},
   "source": [
    "## 函数\n",
    "将一连串的处理定义成函数，需要使用时调用即可"
   ]
  },
  {
   "cell_type": "code",
   "execution_count": 17,
   "id": "f574b2b4",
   "metadata": {},
   "outputs": [
    {
     "name": "stdout",
     "output_type": "stream",
     "text": [
      "Hello World\n"
     ]
    }
   ],
   "source": [
    "def hello():\n",
    "    print(\"Hello World\")\n",
    "\n",
    "hello()"
   ]
  },
  {
   "cell_type": "code",
   "execution_count": 19,
   "id": "ad64c23d",
   "metadata": {},
   "outputs": [
    {
     "name": "stdout",
     "output_type": "stream",
     "text": [
      "Hello cat!\n"
     ]
    }
   ],
   "source": [
    "def hello(object):  # 传入参数\n",
    "    print(\"Hello \" + object + \"!\")\n",
    "\n",
    "hello(\"cat\")"
   ]
  },
  {
   "cell_type": "markdown",
   "id": "7b8b7fcc",
   "metadata": {},
   "source": [
    "## 类\n",
    "\n",
    "使用关键字`class`来定义类，遵循如下格式：\n",
    "```python\n",
    "class 类名:\n",
    "    def __init__(self, 参数, ...):  # 构造函数\n",
    "        ...\n",
    "    def 方法名1(self, 参数, ...):  # 方法1\n",
    "        ...\n",
    "    def 方法名2(self, 参数, ...):  # 方法2\n",
    "        ...\n",
    "```"
   ]
  },
  {
   "cell_type": "code",
   "execution_count": 20,
   "id": "349f2485",
   "metadata": {},
   "outputs": [
    {
     "name": "stdout",
     "output_type": "stream",
     "text": [
      "Initialized!\n",
      "hello, my name is David!\n",
      "good-bye David!\n"
     ]
    }
   ],
   "source": [
    "class Man:\n",
    "    def __init__(self, name):\n",
    "        self.name = name\n",
    "        print(\"Initialized!\")\n",
    "    def hello(self):\n",
    "        print(\"hello, my name is \" + self.name + \"!\")\n",
    "    def good_bye(self):\n",
    "        print(\"good-bye \" + self.name + \"!\")\n",
    "\n",
    "m = Man(\"David\")\n",
    "m.hello()\n",
    "m.good_bye()"
   ]
  },
  {
   "cell_type": "markdown",
   "id": "bccd963c",
   "metadata": {},
   "source": [
    "## `Numpy`\n",
    "\n",
    "提供一些数组和矩阵的计算的方法\n",
    "\n",
    "### 导入`numpy`"
   ]
  },
  {
   "cell_type": "code",
   "execution_count": 21,
   "id": "2dbd148d",
   "metadata": {},
   "outputs": [],
   "source": [
    "import numpy as np"
   ]
  },
  {
   "cell_type": "markdown",
   "id": "31ff370f",
   "metadata": {},
   "source": [
    "### 生成`numpy`数组"
   ]
  },
  {
   "cell_type": "code",
   "execution_count": 22,
   "id": "78616228",
   "metadata": {},
   "outputs": [
    {
     "name": "stdout",
     "output_type": "stream",
     "text": [
      "[1. 2. 3.]\n"
     ]
    }
   ],
   "source": [
    "x = np.array([1.0, 2.0, 3.0])\n",
    "print(x)"
   ]
  },
  {
   "cell_type": "code",
   "execution_count": 23,
   "id": "516582ab",
   "metadata": {},
   "outputs": [
    {
     "data": {
      "text/plain": [
       "numpy.ndarray"
      ]
     },
     "execution_count": 23,
     "metadata": {},
     "output_type": "execute_result"
    }
   ],
   "source": [
    "type(x)"
   ]
  },
  {
   "cell_type": "markdown",
   "id": "01544d96",
   "metadata": {},
   "source": [
    "### `numpy`的算数运算"
   ]
  },
  {
   "cell_type": "code",
   "execution_count": 24,
   "id": "5a93442f",
   "metadata": {},
   "outputs": [
    {
     "data": {
      "text/plain": [
       "array([3., 6., 9.])"
      ]
     },
     "execution_count": 24,
     "metadata": {},
     "output_type": "execute_result"
    }
   ],
   "source": [
    "x = np.array([1.0, 2.0, 3.0])\n",
    "y = np.array([2.0, 4.0, 6.0])\n",
    "x + y  # 对应元素相加"
   ]
  },
  {
   "cell_type": "code",
   "execution_count": 25,
   "id": "aff5f356",
   "metadata": {},
   "outputs": [
    {
     "data": {
      "text/plain": [
       "array([-1., -2., -3.])"
      ]
     },
     "execution_count": 25,
     "metadata": {},
     "output_type": "execute_result"
    }
   ],
   "source": [
    "x - y  # 对应元素相减"
   ]
  },
  {
   "cell_type": "code",
   "execution_count": null,
   "id": "5f28da1f",
   "metadata": {},
   "outputs": [
    {
     "data": {
      "text/plain": [
       "array([ 2.,  8., 18.])"
      ]
     },
     "execution_count": 26,
     "metadata": {},
     "output_type": "execute_result"
    }
   ],
   "source": [
    "x * y  # 对应元素相乘"
   ]
  },
  {
   "cell_type": "code",
   "execution_count": 27,
   "id": "da6f3376",
   "metadata": {},
   "outputs": [
    {
     "data": {
      "text/plain": [
       "array([0.5, 0.5, 0.5])"
      ]
     },
     "execution_count": 27,
     "metadata": {},
     "output_type": "execute_result"
    }
   ],
   "source": [
    "x / y"
   ]
  }
 ],
 "metadata": {
  "kernelspec": {
   "display_name": "DL",
   "language": "python",
   "name": "python3"
  },
  "language_info": {
   "codemirror_mode": {
    "name": "ipython",
    "version": 3
   },
   "file_extension": ".py",
   "mimetype": "text/x-python",
   "name": "python",
   "nbconvert_exporter": "python",
   "pygments_lexer": "ipython3",
   "version": "3.9.17"
  }
 },
 "nbformat": 4,
 "nbformat_minor": 5
}
